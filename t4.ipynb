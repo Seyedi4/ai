{
 "cells": [
  {
   "cell_type": "code",
   "execution_count": 8,
   "id": "561e18fe-0d3c-42a5-a7c4-9599721fa48d",
   "metadata": {},
   "outputs": [
    {
     "name": "stdout",
     "output_type": "stream",
     "text": [
      "0.12\n",
      "-0.0704\n",
      "-----------------\n",
      "0.210368\n",
      "-0.13075456000000002\n",
      "-----------------\n",
      "0.2778340352\n",
      "-0.183297654784\n",
      "-----------------\n",
      "0.32760341577727997\n",
      "-0.2297574753304576\n",
      "-----------------\n",
      "0.36370213459538736\n",
      "-0.2714710055496083\n",
      "-----------------\n",
      "0.3892440272323412\n",
      "-0.30947264314903666\n",
      "-----------------\n",
      "0.40663741033395\n",
      "-0.3445627445963592\n",
      "-----------------\n",
      "0.4177449086994513\n",
      "-0.37736064211654874\n",
      "-----------------\n",
      "0.42400707559023715\n",
      "-0.4083456503846678\n",
      "-----------------\n",
      "0.4265380084414163\n",
      "-0.4378887836939678\n",
      "-----------------\n"
     ]
    }
   ],
   "source": [
    "d=[(1,3),(3,1)]\n",
    "m=0\n",
    "b=0\n",
    "a=0.01\n",
    "def rm(d,m):\n",
    "    t=0\n",
    "    for x,y in d:\n",
    "        t+= x*(y-m*x+b)\n",
    "    return t*(-2)\n",
    "def rb(d,b):\n",
    "    t=0\n",
    "    for x,y in d:\n",
    "        t+= y-m*x+b\n",
    "    return t*2\n",
    "\n",
    "for i in range(10):\n",
    "    e= rm(d,m)\n",
    "    m=m-a*e\n",
    "    f=rb(d,b)\n",
    "    b=b-a*f\n",
    "    print(m)\n",
    "    print(b)\n",
    "    print(\"-----------------\")\n",
    "    "
   ]
  },
  {
   "cell_type": "code",
   "execution_count": null,
   "id": "4386f567-7a51-4b37-a1c5-39d7336dfdc1",
   "metadata": {},
   "outputs": [],
   "source": []
  }
 ],
 "metadata": {
  "kernelspec": {
   "display_name": "Python 3 (ipykernel)",
   "language": "python",
   "name": "python3"
  },
  "language_info": {
   "codemirror_mode": {
    "name": "ipython",
    "version": 3
   },
   "file_extension": ".py",
   "mimetype": "text/x-python",
   "name": "python",
   "nbconvert_exporter": "python",
   "pygments_lexer": "ipython3",
   "version": "3.13.7"
  }
 },
 "nbformat": 4,
 "nbformat_minor": 5
}
