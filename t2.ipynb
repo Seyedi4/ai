{
 "cells": [
  {
   "cell_type": "code",
   "execution_count": 4,
   "id": "d4a56126-9500-4d24-aebc-063b7028a7de",
   "metadata": {},
   "outputs": [
    {
     "data": {
      "text/plain": [
       "1"
      ]
     },
     "execution_count": 4,
     "metadata": {},
     "output_type": "execute_result"
    }
   ],
   "source": [
    "def dy(s,t):\n",
    "    def re(m,n):\n",
    "        if m==0:\n",
    "            r=n\n",
    "        elif n==0:\n",
    "            r=m\n",
    "        elif s[m-1]==t[n-1]:\n",
    "            r=re(m-1,n-1)\n",
    "        else:\n",
    "            su=1+re(m-1,n-1)\n",
    "            i=1+re(m,n-1)\n",
    "            de=1+re(m-1,n)\n",
    "            r=min(su,i,de)\n",
    "        return r\n",
    "    return re(len(s),len(t))\n",
    "\n",
    "dy(\"ca!\",\"da!\")"
   ]
  },
  {
   "cell_type": "code",
   "execution_count": 5,
   "id": "7adbc482-09b9-42a8-aa66-f40a9e4b2aad",
   "metadata": {},
   "outputs": [
    {
     "name": "stdout",
     "output_type": "stream",
     "text": [
      "False\n"
     ]
    }
   ],
   "source": [
    "def is_leap(year):\n",
    "    leap = False\n",
    "    \n",
    "    # Write your logic here\n",
    "    if year%4==0 or year%400==0:\n",
    "        if year%100!=0:\n",
    "            leap=true\n",
    "    return leap\n",
    "\n",
    "#year = int(input())\n",
    "year=1990\n",
    "print(is_leap(year))"
   ]
  },
  {
   "cell_type": "code",
   "execution_count": null,
   "id": "e4ab3a03-6476-4732-b0ab-3c0d254811c4",
   "metadata": {},
   "outputs": [],
   "source": []
  }
 ],
 "metadata": {
  "kernelspec": {
   "display_name": "Python 3 (ipykernel)",
   "language": "python",
   "name": "python3"
  },
  "language_info": {
   "codemirror_mode": {
    "name": "ipython",
    "version": 3
   },
   "file_extension": ".py",
   "mimetype": "text/x-python",
   "name": "python",
   "nbconvert_exporter": "python",
   "pygments_lexer": "ipython3",
   "version": "3.13.7"
  }
 },
 "nbformat": 4,
 "nbformat_minor": 5
}
