{
 "cells": [
  {
   "cell_type": "code",
   "execution_count": 11,
   "id": "be83119f-b040-4716-8b38-feca2a7b9fcb",
   "metadata": {},
   "outputs": [],
   "source": [
    "def f(n,y,w,x):\n",
    "    s=0\n",
    "    i=0\n",
    "    while i<=n:\n",
    "        s+=(y-w*x)**2\n",
    "        i+=1\n",
    "    return s\n",
    "    \n",
    "        "
   ]
  },
  {
   "cell_type": "code",
   "execution_count": 12,
   "id": "3386ee71-d135-438b-ac33-df9cf41ddbca",
   "metadata": {},
   "outputs": [
    {
     "data": {
      "text/plain": [
       "500"
      ]
     },
     "execution_count": 12,
     "metadata": {},
     "output_type": "execute_result"
    }
   ],
   "source": [
    "f(4,10,4,5)"
   ]
  },
  {
   "cell_type": "code",
   "execution_count": null,
   "id": "0f1cf985-1789-463d-bba5-72bbe402a7e7",
   "metadata": {},
   "outputs": [],
   "source": []
  }
 ],
 "metadata": {
  "kernelspec": {
   "display_name": "Python 3 (ipykernel)",
   "language": "python",
   "name": "python3"
  },
  "language_info": {
   "codemirror_mode": {
    "name": "ipython",
    "version": 3
   },
   "file_extension": ".py",
   "mimetype": "text/x-python",
   "name": "python",
   "nbconvert_exporter": "python",
   "pygments_lexer": "ipython3",
   "version": "3.13.7"
  }
 },
 "nbformat": 4,
 "nbformat_minor": 5
}
