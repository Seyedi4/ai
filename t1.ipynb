{
 "cells": [
  {
   "cell_type": "code",
   "execution_count": 11,
   "id": "ec062cf5-f30f-4b5e-a848-add5aaae6d3a",
   "metadata": {},
   "outputs": [
    {
     "name": "stdout",
     "output_type": "stream",
     "text": [
      "weird\n"
     ]
    }
   ],
   "source": [
    "# n = int(input().strip())\n",
    "n=5\n",
    "if n>0 and n<101:\n",
    "        if n%2==0:\n",
    "              if n>1 and n<6:\n",
    "                 print(\"not weird\")\n",
    "              elif n>=6 and n<21:\n",
    "                 print(\"weird\")\n",
    "              else:\n",
    "                 print(\"not weird\")\n",
    "        else:\n",
    "              print(\"weird\")\n",
    "            "
   ]
  },
  {
   "cell_type": "code",
   "execution_count": 12,
   "id": "22707721-f8ed-471f-8ee1-f04968b4eb26",
   "metadata": {},
   "outputs": [
    {
     "name": "stdout",
     "output_type": "stream",
     "text": [
      "8\n",
      "-2\n",
      "15\n"
     ]
    }
   ],
   "source": [
    " #a = int(input())\n",
    " # b = int(input())\n",
    "a=3\n",
    "b=5\n",
    "print(a+b)\n",
    "print(a-b)\n",
    "print(a*b)"
   ]
  },
  {
   "cell_type": "code",
   "execution_count": 13,
   "id": "bf8abda4-bd81-4fd8-8d4b-f13dfaa5864d",
   "metadata": {},
   "outputs": [
    {
     "name": "stdout",
     "output_type": "stream",
     "text": [
      "0.6\n",
      "0\n"
     ]
    }
   ],
   "source": [
    "# a = int(input())\n",
    "#b = int(input())\n",
    "a=3\n",
    "b=5\n",
    "print(a/b)\n",
    "print(a//b)"
   ]
  },
  {
   "cell_type": "code",
   "execution_count": 18,
   "id": "5a846eab-2742-47c5-b7a4-466614318366",
   "metadata": {},
   "outputs": [
    {
     "name": "stdout",
     "output_type": "stream",
     "text": [
      "0\n",
      "1\n",
      "4\n"
     ]
    }
   ],
   "source": [
    "#n = int(input())\n",
    "n=3\n",
    "if n>0 and n<21:\n",
    "    i=0\n",
    "    while i<n:\n",
    "        print(i**2)\n",
    "        i+=1"
   ]
  },
  {
   "cell_type": "code",
   "execution_count": 19,
   "id": "0cdd5300-6471-477c-a022-a5c1c7ab4d57",
   "metadata": {},
   "outputs": [
    {
     "name": "stdout",
     "output_type": "stream",
     "text": [
      "1\n",
      "2\n",
      "3\n",
      "4\n",
      "5\n"
     ]
    }
   ],
   "source": [
    "#n = int(input())\n",
    "n=5\n",
    "if n>=1 and n<=150:\n",
    "    i=1\n",
    "    while n>=i:\n",
    "        print(i)\n",
    "        i+=1"
   ]
  },
  {
   "cell_type": "code",
   "execution_count": null,
   "id": "bbaf1493-a261-427e-9767-c3bd0f1a0317",
   "metadata": {},
   "outputs": [],
   "source": []
  }
 ],
 "metadata": {
  "kernelspec": {
   "display_name": "Python 3 (ipykernel)",
   "language": "python",
   "name": "python3"
  },
  "language_info": {
   "codemirror_mode": {
    "name": "ipython",
    "version": 3
   },
   "file_extension": ".py",
   "mimetype": "text/x-python",
   "name": "python",
   "nbconvert_exporter": "python",
   "pygments_lexer": "ipython3",
   "version": "3.13.7"
  }
 },
 "nbformat": 4,
 "nbformat_minor": 5
}
